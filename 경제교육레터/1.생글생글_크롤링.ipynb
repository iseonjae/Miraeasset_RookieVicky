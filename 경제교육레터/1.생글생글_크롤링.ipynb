{
 "cells": [
  {
   "cell_type": "code",
   "execution_count": 1,
   "id": "3bb8019f-bd4e-43db-904f-c98f4082b957",
   "metadata": {
    "scrolled": true
   },
   "outputs": [
    {
     "name": "stdout",
     "output_type": "stream",
     "text": [
      "Requirement already satisfied: selenium in c:\\users\\seojungyun\\anaconda3\\envs\\nlp\\lib\\site-packages (4.22.0)\n",
      "Requirement already satisfied: urllib3<3,>=1.26 in c:\\users\\seojungyun\\anaconda3\\envs\\nlp\\lib\\site-packages (from urllib3[socks]<3,>=1.26->selenium) (2.2.2)\n",
      "Requirement already satisfied: trio~=0.17 in c:\\users\\seojungyun\\anaconda3\\envs\\nlp\\lib\\site-packages (from selenium) (0.26.0)\n",
      "Requirement already satisfied: trio-websocket~=0.9 in c:\\users\\seojungyun\\anaconda3\\envs\\nlp\\lib\\site-packages (from selenium) (0.11.1)\n",
      "Requirement already satisfied: certifi>=2021.10.8 in c:\\users\\seojungyun\\anaconda3\\envs\\nlp\\lib\\site-packages (from selenium) (2024.6.2)\n",
      "Requirement already satisfied: typing_extensions>=4.9.0 in c:\\users\\seojungyun\\anaconda3\\envs\\nlp\\lib\\site-packages (from selenium) (4.11.0)\n",
      "Requirement already satisfied: websocket-client>=1.8.0 in c:\\users\\seojungyun\\anaconda3\\envs\\nlp\\lib\\site-packages (from selenium) (1.8.0)\n",
      "Requirement already satisfied: attrs>=23.2.0 in c:\\users\\seojungyun\\anaconda3\\envs\\nlp\\lib\\site-packages (from trio~=0.17->selenium) (23.2.0)\n",
      "Requirement already satisfied: sortedcontainers in c:\\users\\seojungyun\\anaconda3\\envs\\nlp\\lib\\site-packages (from trio~=0.17->selenium) (2.4.0)\n",
      "Requirement already satisfied: idna in c:\\users\\seojungyun\\anaconda3\\envs\\nlp\\lib\\site-packages (from trio~=0.17->selenium) (3.7)\n",
      "Requirement already satisfied: outcome in c:\\users\\seojungyun\\anaconda3\\envs\\nlp\\lib\\site-packages (from trio~=0.17->selenium) (1.3.0.post0)\n",
      "Requirement already satisfied: sniffio>=1.3.0 in c:\\users\\seojungyun\\anaconda3\\envs\\nlp\\lib\\site-packages (from trio~=0.17->selenium) (1.3.0)\n",
      "Requirement already satisfied: cffi>=1.14 in c:\\users\\seojungyun\\anaconda3\\envs\\nlp\\lib\\site-packages (from trio~=0.17->selenium) (1.16.0)\n",
      "Requirement already satisfied: wsproto>=0.14 in c:\\users\\seojungyun\\anaconda3\\envs\\nlp\\lib\\site-packages (from trio-websocket~=0.9->selenium) (1.2.0)\n",
      "Requirement already satisfied: pysocks!=1.5.7,<2.0,>=1.5.6 in c:\\users\\seojungyun\\anaconda3\\envs\\nlp\\lib\\site-packages (from urllib3[socks]<3,>=1.26->selenium) (1.7.1)\n",
      "Requirement already satisfied: pycparser in c:\\users\\seojungyun\\anaconda3\\envs\\nlp\\lib\\site-packages (from cffi>=1.14->trio~=0.17->selenium) (2.21)\n",
      "Requirement already satisfied: h11<1,>=0.9.0 in c:\\users\\seojungyun\\anaconda3\\envs\\nlp\\lib\\site-packages (from wsproto>=0.14->trio-websocket~=0.9->selenium) (0.14.0)\n",
      "Note: you may need to restart the kernel to use updated packages.\n"
     ]
    }
   ],
   "source": [
    "pip install selenium"
   ]
  },
  {
   "cell_type": "code",
   "execution_count": 2,
   "id": "57aad705-05c5-43d4-a7f2-ba5b8ce3bad9",
   "metadata": {},
   "outputs": [
    {
     "name": "stdout",
     "output_type": "stream",
     "text": [
      "Requirement already satisfied: chromedriver_autoinstaller in c:\\users\\seojungyun\\anaconda3\\envs\\nlp\\lib\\site-packages (0.6.4)Note: you may need to restart the kernel to use updated packages.\n",
      "\n",
      "Requirement already satisfied: packaging>=23.1 in c:\\users\\seojungyun\\anaconda3\\envs\\nlp\\lib\\site-packages (from chromedriver_autoinstaller) (23.2)\n"
     ]
    }
   ],
   "source": [
    "pip install chromedriver_autoinstaller"
   ]
  },
  {
   "cell_type": "code",
   "execution_count": 3,
   "id": "c7d995de-a958-44db-9a6f-490fe6d44da3",
   "metadata": {},
   "outputs": [],
   "source": [
    "from selenium import webdriver\n",
    "from selenium.webdriver.common.by import By\n",
    "from selenium.webdriver.support.ui import WebDriverWait\n",
    "from selenium.webdriver.support import expected_conditions as EC\n",
    "from selenium.webdriver.chrome.options import Options\n",
    "import chromedriver_autoinstaller\n",
    "import subprocess\n",
    "import time\n",
    "import pandas as pd"
   ]
  },
  {
   "cell_type": "code",
   "execution_count": 4,
   "id": "42dffa7b-3d80-43df-abc1-4f24e85c4652",
   "metadata": {},
   "outputs": [],
   "source": [
    "driver=webdriver.Chrome()\n",
    "driver.implicitly_wait(3)\n",
    "driver.get('https://sgsg.hankyung.com/sgnews/economy')\n",
    "\n",
    "\n",
    "driver.implicitly_wait(3)\n",
    "time.sleep(0.5)\n",
    "\n"
   ]
  },
  {
   "cell_type": "code",
   "execution_count": null,
   "id": "f2bac29f",
   "metadata": {},
   "outputs": [],
   "source": [
    "title=[]\n",
    "sub=[]\n",
    "i=1\n",
    "j=1\n",
    "k=1\n",
    "l=0\n",
    "while True:\n",
    "    try:\n",
    "        title.append(driver.find_element(By.XPATH, '//*[@id=\"contents\"]/div/div[{}]/ul/li[{}]/div/h3/a'.format(i, j)).text)\n",
    "    except:\n",
    "        title.append('None')\n",
    "    try:\n",
    "        driver.find_element(By.XPATH, '//*[@id=\"contents\"]/div/div[{}]/ul/li[{}]/div/h3/a'.format(i,j)).click()\n",
    "        time.sleep(.5)\n",
    "        sub.append(driver.find_element(By.XPATH, '//*[@id=\"contents\"]/div/div/div[2]/div[2]/div').text)\n",
    "        driver.back()\n",
    "        time.sleep(.5)\n",
    "    except:\n",
    "        sub.append('None')\n",
    "    j+=1\n",
    "    if (j==5)&(i==2):\n",
    "        driver.find_element(By.XPATH, '//*[@id=\"contents\"]/div/div[3]/a[{}]'.format(k)).click()\n",
    "        time.sleep(.5)\n",
    "        k+=1\n",
    "        if k==13:\n",
    "            k=3\n",
    "        if (k==11)&(l==0):\n",
    "            k=3\n",
    "            l=1\n",
    "            \n",
    "        i=1\n",
    "        j=1\n",
    "    if j==5:\n",
    "        i=2\n",
    "        j=1\n",
    "    if len(title)==3000:\n",
    "        break"
   ]
  },
  {
   "cell_type": "code",
   "execution_count": 42,
   "id": "b4620554-9bf1-4717-8bf8-48e2c2c2e82b",
   "metadata": {},
   "outputs": [],
   "source": [
    "driver.find_element(By.XPATH, '//*[@id=\"contents\"]/div/div[{}]/ul/li[{}]/div[2]/h3/a'.format(i,j)).click()"
   ]
  },
  {
   "cell_type": "code",
   "execution_count": 9,
   "id": "b7408c7f-dcb5-48b5-9f24-12b0de3f1130",
   "metadata": {},
   "outputs": [
    {
     "data": {
      "text/plain": [
       "\"'질병관리청 승격 논란'…본질 빗나간 구태의연 행정\""
      ]
     },
     "execution_count": 9,
     "metadata": {},
     "output_type": "execute_result"
    }
   ],
   "source": [
    "title[1900]"
   ]
  },
  {
   "cell_type": "code",
   "execution_count": 10,
   "id": "2f17eba5-7810-4313-9059-d2900cbb5298",
   "metadata": {},
   "outputs": [
    {
     "data": {
      "text/plain": [
       "\"[사설] 위기 틈타 몸집 불리는 '큰 정부' 팽창 본능\\n정부가 보건복지부 소속 질병관리본부를 ‘질병관리청(廳)’으로 격상시키기 위해 정부조직법 개정 절차를 시작했다. ‘코로나 방역’의 주무기관인 질병관리본부를 승격시켜 감염병 등 주요 질병에 전문적으로 대처하겠다는 취지다. 2004년 국립보건원에서 확대 개편된 질본이 16년 만에 ‘외청’으로 승격되면 조직과 인사, 예산에서 상당히 독자적 지위를 누릴 수 있게 된다.\\n\\n‘코로나 쇼크’의 유별난 파장을 보면 적어도 질병관리청 신설만큼은 국가기관이나 정부 조직 확대에 따른 음양을 기계적으로 대입하기 어려운 것도 사실이다. ‘팬데믹(세계적 대유행)’이 경제·사회·정치에 미친 충격이 그만큼 큰 데다, 이런 대유행병이 언제 또 닥칠지 모르는 만큼 정부가 다각도로 대응체제를 갖춰나가는 노력은 필요하다.\\n\\n그럼에도 위기 와중에 몸집을 불려나가는 ‘큰 정부’의 ‘팽창 본능’에 대한 경계심을 늦출 수 없다. 조직이 승격되고 커지면 설령 당장은 아니더라도 결국은 그에 따른 직·간접 비용이 늘어날 수밖에 없다. 그러면서 지휘체계와 책임 소재는 오히려 더 모호해지는 경우도 허다해지기 때문이다. 그제 입법예고된 정부조직 개편안에도 그런 대목이 있다. 차관급이 수장인 질병관리청을 신설하겠다며 상급 부처인 보건복지부에는 복수차관제를 적용해 차관 자리를 하나 더 둔다는 것인데, 옥상옥 구조로 의사결정만 왜곡시킬 공산이 무척 크다. “위기를 기회로 복지부만 덕 보게 됐다”는 단선적 비판 차원을 넘어서는 구조적 문제가 될 수 있다.\\n\\n질병관리청으로 격상돼도 정원과 예산은 오히려 줄어든다는 게 행정안전부 설명이다. 하지만 그것도 ‘현재’가 그렇다는 얘기일 뿐이다. ‘청’에 걸맞은 일반적인 관리·지원 부서를 다 갖추려 할 것이고, 그만큼 조직과 예산은 늘어나게 돼 있다. 큰 문제가 생기거나 국가사회적 아젠다가 부각되면 조직부터 키우고 나랏돈 투입을 늘릴 궁리를 하는 게 한국 행정의 오랜 전통이다.…(중략)… 정부조직이 커지면 비용 증가 외에도 기관이기주의, 칸막이 행정에 따른 비효율 등 고질적 행정 병폐가 함께 커질 수 있다. 질병대응 기관이라면 체계적 컨트롤타워 수행도 매우 중요하다.\\n\\n관건은 기관 본연의 업무수준부터 높이는 것이다. 외형적인 제도 변경에 앞서 구성원과 종사자들 역량 제고와 헌신 의지가 행정서비스 개선에 더 긴요하다. 일이 생기면 조직을 키우고 예산부터 따지는 것은 각급 지방자치단체와 정부산하 공공기관에서도 똑같다. 문재인 정부의 ‘공공부문 일자리 81만 개 창출’ 정책이 큰 논란이 됐던 것도 본질은 같다.\\n\\n관료화된 조직의 비대화·비효율성을 경고한 ‘파킨슨의 법칙’이 한국의 공공부문에 유난히 잘 들어맞는 게 유감스런 현실이다.《한국경제신문 6월 5일자》\\n사설 읽기 포인트\\n정부조직 확대보다 일하는 방식 개선부터\\n'규제비용'감안, 돈 안드는 '소프트개혁' 더 중요\\n문제 생길 때마다 조직 키우면 뒷감당 해낼까\\n\\n결국 대통령이 나서서 “개편안을 전면 재검토하라”고 관계부처에 지시하면서 질병관리본부의 직제개편 추진은 일단 중단됐다. 물론 대통령이 문제를 제기한 것은 질병관리본부를 외청(外廳)으로 승격시키는 것 자체를 지적한 것은 아니었다. 기존 국립보건연구원과 감염병연구소가 보건복지부 산하로 가면 청으로 된들 질병관리본부가 일을 제대로 할 수 있겠느냐는 것이 표면으로 부각됐다. 하지만 본질은 정밀한 진단과 충분한 준비 없이 바뀌고 커지는 정부조직의 자가 증식이 갖는 문제점이었다. 정부조직 업무를 총괄하는 행정안전부와 직접 이해당사자인 보건복지부 등의 조직개편이 청와대에 제동 걸린 데는 이런 사정이 복합적으로 얽혀 있었다. 위의 한국경제신문 사설을 비롯해 몇몇 신문이 사설로 문제를 제기한 직후에 나온 청와대의 조치였다는 사실도 기억해둘 만하다.\\n\\n‘큰 정부’의 문제점과 ‘큰 정부로의 지향’이 안고 있는 속성 및 문제점을 담은 것이 영국에서 나온 ‘파킨슨의 법칙’이다. 진보·좌파의 일반적인 성격인 ‘큰 정부’가 아니더라도 행정조직, 나아가 관료화된 조직의 비대화는 ‘파킨슨의 법칙’으로 설명된다.\\n\\n정부를 비롯한 공공부문에서 파킨슨의 법칙이나 팽창본능이 무서운 것은 단지 예산지출 증가와 이로 인한 납세자의 부담 증가 차원만이 아니다. 공직은 조직이 커지고 인원이 늘어나면 늘어나는 만큼 무언가 새 일을 할 수밖에 없는데, 그게 거의 대부분 규제라는 게 중요하다. 당장 인건비 등 늘어나는 조직유지 비용과 향후의 부대비용(퇴직금, 연금 등)도 계산 대상이지만, 더 큰 부담은 규제에 따른 총체적 비용이다. 국내에서도 몇몇 연구기관이 행정 규제에 따른 경제적 부담, 즉 ‘규제비용’을 내놓은 바 있다. 그 규모가 천문학적이다. 민간 활력의 위축은 그래서 그 결과가 무섭다.\\n\\n문제가 생길 때마다 인원과 조직을 늘리고, 나랏돈 쓰기로 해결하겠다면 참으로 쉬운 접근법이다. 저출산 문제가 심각하다고 인구청을 만들고, 고령화·노인 문제가 사회적 아젠다가 됐다고 노인청을 세우고, 외국인 수용을 더 미룰 수 없다고 다문화이민청을 신설하고, 청년들 주거복지를 실현하자고 청년주택청을 설립하자는 의견이 나오고 있다. 그런다고 문제가 해결될까. 주장하는 쪽은 특정 부문의 심각성만 보고 무슨 주장인들 못하랴만, 이런 요구를 다 끌어 모아놓으면 정부는 괴물이 되고 말 것이다.\\n\\n균형감각과 내부 견제가 절실하다. 실제로 부(部), 처(處), 청(廳), 위원회를 필요한 곳마다 다 만들었다 치자. 기관은 정상적으로 돌아갈 것이며, 부처 간 업무협조는 원만하게 될까. 정부조직은 비대해진 공룡이 돼 업무효율은 바닥이 될 것이다. 비용 문제만이 아니다.\\n\\n더 중요한 것은 ‘소프트 개혁’이다. 공공부문에서 먼저 업무방식을 효율적·창의적으로 바꾸는 것도 중요하고, 기존 인력의 재배치나 운용 극대화 같은 노력도 중요하다. 담당자들의 업무역량 높이기나 각오일신 같은 자세도 중요하다. 이런 게 더 큰 성과를 낼 수 있다. 이래도 잘 안 되거나 모자랄 경우 조직 키우기 같은 ‘하드웨어 개편’을 시도하는 게 순서 아닐까.\\n\\n허원순 한국경제신문 논설위원 huhws@hankyung.com\""
      ]
     },
     "execution_count": 10,
     "metadata": {},
     "output_type": "execute_result"
    }
   ],
   "source": [
    "sub[1900]"
   ]
  },
  {
   "cell_type": "code",
   "execution_count": 11,
   "id": "cfc6ef51-4b96-4219-8591-7da14924afed",
   "metadata": {},
   "outputs": [
    {
     "name": "stdout",
     "output_type": "stream",
     "text": [
      "Title list length: 2536\n",
      "Sub list length: 2536\n"
     ]
    }
   ],
   "source": [
    "# 리스트 길이 확인\n",
    "print(f\"Title list length: {len(title)}\")\n",
    "print(f\"Sub list length: {len(sub)}\")\n"
   ]
  },
  {
   "cell_type": "code",
   "execution_count": 13,
   "id": "8eca336d-7bbe-4562-a0bb-ea0fdb835e3c",
   "metadata": {},
   "outputs": [],
   "source": [
    "title1 = title.copy\n",
    "sub1 = sub.copy"
   ]
  },
  {
   "cell_type": "code",
   "execution_count": 18,
   "id": "9042af1b-6d5a-4e00-bbcf-949bec2ba2a8",
   "metadata": {},
   "outputs": [
    {
     "name": "stdout",
     "output_type": "stream",
     "text": [
      "                                   Title  \\\n",
      "0                   인구 감소 위기는 청소년 세대의 문제   \n",
      "1       사회보험 지속가능성 '제로'…국민 부담, 어디까지 가능할까   \n",
      "2              현대차, 60세 정년 후 2년간 '계속 고용'   \n",
      "3              원가 제때 반영 않는 전기·가스요금, 괜찮은가   \n",
      "4               7월 긴장되는 모의고사…\"수능에 한발짝 더\"   \n",
      "...                                  ...   \n",
      "2531          과도한 복지는 결국 미래세대에 무거운 짐이 되죠   \n",
      "2532       인공지능이 진화할수록 인간의 영역인 '직관'도 넘보죠   \n",
      "2533  세계가 '드론 전쟁'…中은 세계 판매 1위, 美는 SW 뛰어나   \n",
      "2534       실생활을 바꾸고 있는 드론, 한국은 규제에 꽁꽁 묶여   \n",
      "2535                                None   \n",
      "\n",
      "                                                Content  \n",
      "0     Cover Story\\n그래픽=김선우 한국경제신문 기자\\n우리나라 인구 위기와 관련...  \n",
      "1     (89) 사회보장제도 전망\\n게티이미지뱅크\\n정부가 국민연금, 건강보험 등 8대 사...  \n",
      "2     생각하기와 글쓰기\\n\\n노사, '정년 연장 TF' 꾸려\\n내년 상반기 합의안 도출\\...  \n",
      "3     일반 가정용 도시가스 도매 요금은 액화천연가스(LNG) 등 원자재 가격을 반영하는 ...  \n",
      "4     2024학년도 7월 고3 전국연합학력평가가 실시된 지난 11일 오전 대구 중구 경북...  \n",
      "...                                                 ...  \n",
      "2531                                               None  \n",
      "2532  (35) 4차산업혁명과 기계의 역할\\n\\n4차산업시대 기술의 빠른 진보로\\nAI가 ...  \n",
      "2533  Cover Story - 미래 바꾸는 드론\\n올해 2월 열린 평창 동계올림픽 개막식...  \n",
      "2534                                               None  \n",
      "2535                                               None  \n",
      "\n",
      "[2536 rows x 2 columns]\n"
     ]
    }
   ],
   "source": [
    "# 데이터프레임 생성\n",
    "df = pd.DataFrame({\n",
    "    'Title': title,\n",
    "    'Content': sub})\n",
    "\n",
    "print(df)"
   ]
  },
  {
   "cell_type": "code",
   "execution_count": 19,
   "id": "5005479b-d663-4620-a032-a9edda8eda53",
   "metadata": {},
   "outputs": [
    {
     "data": {
      "text/html": [
       "<div>\n",
       "<style scoped>\n",
       "    .dataframe tbody tr th:only-of-type {\n",
       "        vertical-align: middle;\n",
       "    }\n",
       "\n",
       "    .dataframe tbody tr th {\n",
       "        vertical-align: top;\n",
       "    }\n",
       "\n",
       "    .dataframe thead th {\n",
       "        text-align: right;\n",
       "    }\n",
       "</style>\n",
       "<table border=\"1\" class=\"dataframe\">\n",
       "  <thead>\n",
       "    <tr style=\"text-align: right;\">\n",
       "      <th></th>\n",
       "      <th>Title</th>\n",
       "      <th>Content</th>\n",
       "    </tr>\n",
       "  </thead>\n",
       "  <tbody>\n",
       "    <tr>\n",
       "      <th>0</th>\n",
       "      <td>인구 감소 위기는 청소년 세대의 문제</td>\n",
       "      <td>Cover Story\\n그래픽=김선우 한국경제신문 기자\\n우리나라 인구 위기와 관련...</td>\n",
       "    </tr>\n",
       "    <tr>\n",
       "      <th>1</th>\n",
       "      <td>사회보험 지속가능성 '제로'…국민 부담, 어디까지 가능할까</td>\n",
       "      <td>(89) 사회보장제도 전망\\n게티이미지뱅크\\n정부가 국민연금, 건강보험 등 8대 사...</td>\n",
       "    </tr>\n",
       "    <tr>\n",
       "      <th>2</th>\n",
       "      <td>현대차, 60세 정년 후 2년간 '계속 고용'</td>\n",
       "      <td>생각하기와 글쓰기\\n\\n노사, '정년 연장 TF' 꾸려\\n내년 상반기 합의안 도출\\...</td>\n",
       "    </tr>\n",
       "    <tr>\n",
       "      <th>3</th>\n",
       "      <td>원가 제때 반영 않는 전기·가스요금, 괜찮은가</td>\n",
       "      <td>일반 가정용 도시가스 도매 요금은 액화천연가스(LNG) 등 원자재 가격을 반영하는 ...</td>\n",
       "    </tr>\n",
       "    <tr>\n",
       "      <th>4</th>\n",
       "      <td>7월 긴장되는 모의고사…\"수능에 한발짝 더\"</td>\n",
       "      <td>2024학년도 7월 고3 전국연합학력평가가 실시된 지난 11일 오전 대구 중구 경북...</td>\n",
       "    </tr>\n",
       "    <tr>\n",
       "      <th>...</th>\n",
       "      <td>...</td>\n",
       "      <td>...</td>\n",
       "    </tr>\n",
       "    <tr>\n",
       "      <th>2528</th>\n",
       "      <td>\"현재 우리나라는 위기 상황…해법은 혁신성장에 있다\"</td>\n",
       "      <td>이슈&amp;이슈\\n\\n경제 원로들의 '한국경제 진단과 해법'\\n대한민국 경제는 어디로 가...</td>\n",
       "    </tr>\n",
       "    <tr>\n",
       "      <th>2529</th>\n",
       "      <td>대한민국 경제에 대한 국내외 석학들의 조언</td>\n",
       "      <td>“임금을 올리고 싶다면 생산성과 기술을 높여야 합니다. 생산성은 투자를 끌어내는 거...</td>\n",
       "    </tr>\n",
       "    <tr>\n",
       "      <th>2530</th>\n",
       "      <td>택시업계 \"생존권 위협\" 주장에…카카오측은 \"소비자에 꼭 필요\" 반박</td>\n",
       "      <td>뉴스 인 포커스\\n\\n카카오의 카풀 서비스 왜 논란인가\\n카카오의 카풀 서비스 도입...</td>\n",
       "    </tr>\n",
       "    <tr>\n",
       "      <th>2531</th>\n",
       "      <td>인공지능이 진화할수록 인간의 영역인 '직관'도 넘보죠</td>\n",
       "      <td>(35) 4차산업혁명과 기계의 역할\\n\\n4차산업시대 기술의 빠른 진보로\\nAI가 ...</td>\n",
       "    </tr>\n",
       "    <tr>\n",
       "      <th>2532</th>\n",
       "      <td>세계가 '드론 전쟁'…中은 세계 판매 1위, 美는 SW 뛰어나</td>\n",
       "      <td>Cover Story - 미래 바꾸는 드론\\n올해 2월 열린 평창 동계올림픽 개막식...</td>\n",
       "    </tr>\n",
       "  </tbody>\n",
       "</table>\n",
       "<p>2533 rows × 2 columns</p>\n",
       "</div>"
      ],
      "text/plain": [
       "                                       Title  \\\n",
       "0                       인구 감소 위기는 청소년 세대의 문제   \n",
       "1           사회보험 지속가능성 '제로'…국민 부담, 어디까지 가능할까   \n",
       "2                  현대차, 60세 정년 후 2년간 '계속 고용'   \n",
       "3                  원가 제때 반영 않는 전기·가스요금, 괜찮은가   \n",
       "4                   7월 긴장되는 모의고사…\"수능에 한발짝 더\"   \n",
       "...                                      ...   \n",
       "2528           \"현재 우리나라는 위기 상황…해법은 혁신성장에 있다\"   \n",
       "2529                 대한민국 경제에 대한 국내외 석학들의 조언   \n",
       "2530  택시업계 \"생존권 위협\" 주장에…카카오측은 \"소비자에 꼭 필요\" 반박   \n",
       "2531           인공지능이 진화할수록 인간의 영역인 '직관'도 넘보죠   \n",
       "2532      세계가 '드론 전쟁'…中은 세계 판매 1위, 美는 SW 뛰어나   \n",
       "\n",
       "                                                Content  \n",
       "0     Cover Story\\n그래픽=김선우 한국경제신문 기자\\n우리나라 인구 위기와 관련...  \n",
       "1     (89) 사회보장제도 전망\\n게티이미지뱅크\\n정부가 국민연금, 건강보험 등 8대 사...  \n",
       "2     생각하기와 글쓰기\\n\\n노사, '정년 연장 TF' 꾸려\\n내년 상반기 합의안 도출\\...  \n",
       "3     일반 가정용 도시가스 도매 요금은 액화천연가스(LNG) 등 원자재 가격을 반영하는 ...  \n",
       "4     2024학년도 7월 고3 전국연합학력평가가 실시된 지난 11일 오전 대구 중구 경북...  \n",
       "...                                                 ...  \n",
       "2528  이슈&이슈\\n\\n경제 원로들의 '한국경제 진단과 해법'\\n대한민국 경제는 어디로 가...  \n",
       "2529  “임금을 올리고 싶다면 생산성과 기술을 높여야 합니다. 생산성은 투자를 끌어내는 거...  \n",
       "2530  뉴스 인 포커스\\n\\n카카오의 카풀 서비스 왜 논란인가\\n카카오의 카풀 서비스 도입...  \n",
       "2531  (35) 4차산업혁명과 기계의 역할\\n\\n4차산업시대 기술의 빠른 진보로\\nAI가 ...  \n",
       "2532  Cover Story - 미래 바꾸는 드론\\n올해 2월 열린 평창 동계올림픽 개막식...  \n",
       "\n",
       "[2533 rows x 2 columns]"
      ]
     },
     "execution_count": 19,
     "metadata": {},
     "output_type": "execute_result"
    }
   ],
   "source": [
    "# 'None' 값이 있는 행 제거\n",
    "df = df[(df['Title'] != 'None') & (df['Content'] != 'None')]\n",
    "\n",
    "# 인덱스 다시 설정\n",
    "df = df.reset_index(drop=True)\n",
    "\n",
    "df"
   ]
  },
  {
   "cell_type": "code",
   "execution_count": 22,
   "id": "82a54cdc-1ca8-4ad9-a529-7ae972781133",
   "metadata": {},
   "outputs": [
    {
     "name": "stdout",
     "output_type": "stream",
     "text": [
      "None values in 'Title':\n",
      "Empty DataFrame\n",
      "Columns: [Title, Content]\n",
      "Index: []\n",
      "\n",
      "None values in 'Content':\n",
      "Empty DataFrame\n",
      "Columns: [Title, Content]\n",
      "Index: []\n"
     ]
    }
   ],
   "source": [
    "# 각 컬럼별 None 값 확인\n",
    "print(\"None values in 'Title':\")\n",
    "print(df[df['Title'] == 'None'])\n",
    "\n",
    "print(\"\\nNone values in 'Content':\")\n",
    "print(df[df['Content'] == 'None'])"
   ]
  },
  {
   "cell_type": "code",
   "execution_count": 23,
   "id": "bde040be-a9d2-4ef3-8c49-d0f87ec34338",
   "metadata": {},
   "outputs": [
    {
     "name": "stdout",
     "output_type": "stream",
     "text": [
      "Duplicate rows:\n",
      "                                               Title  \\\n",
      "1000                      소비자에게 부실한 정보제공…중고차 시장이 대표적   \n",
      "1001                            미국, 3년3개월 만에 기준금리 인상   \n",
      "1002  물건을 맞바꾸는 물물교환으로 시작된 유통…슈퍼마켓→ 대형마트→ 온라인 쇼핑으로 진화   \n",
      "1003                     대형마트 영업제한 10년…유통은 어떻게 진화했나?   \n",
      "2211  시사 문제 이해력 키워주고 알찬 대입 정보도 가득…생글생글, 가족이 함께 읽어보세요   \n",
      "2254  시사 문제 이해력 키워주고 알찬 대입 정보도 가득…생글생글, 가족이 함께 읽어보세요   \n",
      "2266  시사 문제 이해력 키워주고 알찬 대입 정보도 가득…생글생글, 가족이 함께 읽어보세요   \n",
      "2332        논리력 키워주고 알찬 대입 정보도 가득…생글생글, 가족이 함께 읽어보세요   \n",
      "\n",
      "                                                Content  \n",
      "1000  레몬 마켓 : lemon market\\n한국자동차매매사업조합연합회가 지난달 25일 ...  \n",
      "1001  미국 연방준비제도(Fed·연준)가 16일(현지시간) 3년 3개월 만에 기준금리를 0...  \n",
      "1002  Cover Story\\n바꿔 먹기, 즉 물물교환은 인류가 발견한 최초의 유통 방법이...  \n",
      "1003  Cover Story\\n그래픽=전희성 한국경제신문 기자\\n2012년 3월 시행된 대...  \n",
      "2211  부모님 함께 읽으면 자녀에도 도움\\n가정 구독료 1년에 8만원…우편 배달\\n한국경제...  \n",
      "2254  부모님 함께 읽으면 자녀에도 도움\\n가정 구독료 1년에 8만원…우편 배달\\n한국경제...  \n",
      "2266  부모님 함께 읽으면 자녀에도 도움\\n가정 구독료 1년에 8만원…우편 배달\\n한국경제...  \n",
      "2332  부모님 함께 읽으면 자녀에도 도움\\n가정 구독료 1년에 8만원…우편 배달\\n한국경제...  \n"
     ]
    }
   ],
   "source": [
    "# 중복된 행 찾기\n",
    "duplicates = df[df.duplicated()]\n",
    "\n",
    "# 결과 출력\n",
    "print(\"Duplicate rows:\")\n",
    "print(duplicates)"
   ]
  },
  {
   "cell_type": "code",
   "execution_count": 24,
   "id": "b496b472-cab6-480b-839a-b0a4ad6a28af",
   "metadata": {},
   "outputs": [
    {
     "name": "stdout",
     "output_type": "stream",
     "text": [
      "중복된 행이 제거된 데이터프레임:\n",
      "                                       Title  \\\n",
      "0                       인구 감소 위기는 청소년 세대의 문제   \n",
      "1           사회보험 지속가능성 '제로'…국민 부담, 어디까지 가능할까   \n",
      "2                  현대차, 60세 정년 후 2년간 '계속 고용'   \n",
      "3                  원가 제때 반영 않는 전기·가스요금, 괜찮은가   \n",
      "4                   7월 긴장되는 모의고사…\"수능에 한발짝 더\"   \n",
      "...                                      ...   \n",
      "2528           \"현재 우리나라는 위기 상황…해법은 혁신성장에 있다\"   \n",
      "2529                 대한민국 경제에 대한 국내외 석학들의 조언   \n",
      "2530  택시업계 \"생존권 위협\" 주장에…카카오측은 \"소비자에 꼭 필요\" 반박   \n",
      "2531           인공지능이 진화할수록 인간의 영역인 '직관'도 넘보죠   \n",
      "2532      세계가 '드론 전쟁'…中은 세계 판매 1위, 美는 SW 뛰어나   \n",
      "\n",
      "                                                Content  \n",
      "0     Cover Story\\n그래픽=김선우 한국경제신문 기자\\n우리나라 인구 위기와 관련...  \n",
      "1     (89) 사회보장제도 전망\\n게티이미지뱅크\\n정부가 국민연금, 건강보험 등 8대 사...  \n",
      "2     생각하기와 글쓰기\\n\\n노사, '정년 연장 TF' 꾸려\\n내년 상반기 합의안 도출\\...  \n",
      "3     일반 가정용 도시가스 도매 요금은 액화천연가스(LNG) 등 원자재 가격을 반영하는 ...  \n",
      "4     2024학년도 7월 고3 전국연합학력평가가 실시된 지난 11일 오전 대구 중구 경북...  \n",
      "...                                                 ...  \n",
      "2528  이슈&이슈\\n\\n경제 원로들의 '한국경제 진단과 해법'\\n대한민국 경제는 어디로 가...  \n",
      "2529  “임금을 올리고 싶다면 생산성과 기술을 높여야 합니다. 생산성은 투자를 끌어내는 거...  \n",
      "2530  뉴스 인 포커스\\n\\n카카오의 카풀 서비스 왜 논란인가\\n카카오의 카풀 서비스 도입...  \n",
      "2531  (35) 4차산업혁명과 기계의 역할\\n\\n4차산업시대 기술의 빠른 진보로\\nAI가 ...  \n",
      "2532  Cover Story - 미래 바꾸는 드론\\n올해 2월 열린 평창 동계올림픽 개막식...  \n",
      "\n",
      "[2525 rows x 2 columns]\n"
     ]
    }
   ],
   "source": [
    "# 중복된 행 제거\n",
    "df = df.drop_duplicates()\n",
    "\n",
    "# 중복된 행이 제거된 데이터프레임 출력\n",
    "print(\"중복된 행이 제거된 데이터프레임:\")\n",
    "print(df)"
   ]
  },
  {
   "cell_type": "code",
   "execution_count": 25,
   "id": "54a07c06-5d2d-4a03-a62f-a39308a8f4a2",
   "metadata": {},
   "outputs": [
    {
     "name": "stdout",
     "output_type": "stream",
     "text": [
      "중복된 행이 제거된 후의 데이터프레임:\n",
      "                                       Title  \\\n",
      "0                       인구 감소 위기는 청소년 세대의 문제   \n",
      "1           사회보험 지속가능성 '제로'…국민 부담, 어디까지 가능할까   \n",
      "2                  현대차, 60세 정년 후 2년간 '계속 고용'   \n",
      "3                  원가 제때 반영 않는 전기·가스요금, 괜찮은가   \n",
      "4                   7월 긴장되는 모의고사…\"수능에 한발짝 더\"   \n",
      "...                                      ...   \n",
      "2520           \"현재 우리나라는 위기 상황…해법은 혁신성장에 있다\"   \n",
      "2521                 대한민국 경제에 대한 국내외 석학들의 조언   \n",
      "2522  택시업계 \"생존권 위협\" 주장에…카카오측은 \"소비자에 꼭 필요\" 반박   \n",
      "2523           인공지능이 진화할수록 인간의 영역인 '직관'도 넘보죠   \n",
      "2524      세계가 '드론 전쟁'…中은 세계 판매 1위, 美는 SW 뛰어나   \n",
      "\n",
      "                                                Content  \n",
      "0     Cover Story\\n그래픽=김선우 한국경제신문 기자\\n우리나라 인구 위기와 관련...  \n",
      "1     (89) 사회보장제도 전망\\n게티이미지뱅크\\n정부가 국민연금, 건강보험 등 8대 사...  \n",
      "2     생각하기와 글쓰기\\n\\n노사, '정년 연장 TF' 꾸려\\n내년 상반기 합의안 도출\\...  \n",
      "3     일반 가정용 도시가스 도매 요금은 액화천연가스(LNG) 등 원자재 가격을 반영하는 ...  \n",
      "4     2024학년도 7월 고3 전국연합학력평가가 실시된 지난 11일 오전 대구 중구 경북...  \n",
      "...                                                 ...  \n",
      "2520  이슈&이슈\\n\\n경제 원로들의 '한국경제 진단과 해법'\\n대한민국 경제는 어디로 가...  \n",
      "2521  “임금을 올리고 싶다면 생산성과 기술을 높여야 합니다. 생산성은 투자를 끌어내는 거...  \n",
      "2522  뉴스 인 포커스\\n\\n카카오의 카풀 서비스 왜 논란인가\\n카카오의 카풀 서비스 도입...  \n",
      "2523  (35) 4차산업혁명과 기계의 역할\\n\\n4차산업시대 기술의 빠른 진보로\\nAI가 ...  \n",
      "2524  Cover Story - 미래 바꾸는 드론\\n올해 2월 열린 평창 동계올림픽 개막식...  \n",
      "\n",
      "[2525 rows x 2 columns]\n",
      "\n",
      "중복된 행이 있는지 확인:\n",
      "중복된 행이 없습니다.\n"
     ]
    }
   ],
   "source": [
    "# 인덱스 재설정\n",
    "df = df.reset_index(drop=True)\n",
    "\n",
    "# 중복된 행이 있는지 확인\n",
    "duplicates = df[df.duplicated()]\n",
    "\n",
    "# 결과 출력\n",
    "print(\"중복된 행이 제거된 후의 데이터프레임:\")\n",
    "print(df)\n",
    "\n",
    "print(\"\\n중복된 행이 있는지 확인:\")\n",
    "if duplicates.empty:\n",
    "    print(\"중복된 행이 없습니다.\")\n",
    "else:\n",
    "    print(\"중복된 행이 있습니다:\")\n",
    "    print(duplicates)"
   ]
  },
  {
   "cell_type": "code",
   "execution_count": 26,
   "id": "e6a56fbd-9638-41ac-9f67-e4bc090c8065",
   "metadata": {},
   "outputs": [
    {
     "name": "stdout",
     "output_type": "stream",
     "text": [
      "C:\\Users\\SeoJungyun\n"
     ]
    }
   ],
   "source": [
    "import os\n",
    "print(os.getcwd())"
   ]
  },
  {
   "cell_type": "code",
   "execution_count": 27,
   "id": "d7709097-7351-4f1c-a9a9-e3046e7889a8",
   "metadata": {},
   "outputs": [
    {
     "name": "stdout",
     "output_type": "stream",
     "text": [
      "Cleaned data saved to articles_cleaned_cp949.csv\n"
     ]
    }
   ],
   "source": [
    "# 수정된 데이터프레임을 CSV 파일로 저장 (cp949 인코딩)\n",
    "df.to_csv('articles_cleaned_cp949.csv', index=False, encoding='cp949')\n",
    "\n",
    "print(\"Cleaned data saved to articles_cleaned_cp949.csv\")"
   ]
  }
 ],
 "metadata": {
  "kernelspec": {
   "display_name": "Python 3 (ipykernel)",
   "language": "python",
   "name": "python3"
  },
  "language_info": {
   "codemirror_mode": {
    "name": "ipython",
    "version": 3
   },
   "file_extension": ".py",
   "mimetype": "text/x-python",
   "name": "python",
   "nbconvert_exporter": "python",
   "pygments_lexer": "ipython3",
   "version": "3.12.4"
  }
 },
 "nbformat": 4,
 "nbformat_minor": 5
}
