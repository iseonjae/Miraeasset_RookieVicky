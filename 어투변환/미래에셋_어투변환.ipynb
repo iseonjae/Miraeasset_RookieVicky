{
 "cells": [
  {
   "cell_type": "markdown",
   "metadata": {},
   "source": [
    "# M-stock for Rookie 학습 자료 어투 변환"
   ]
  },
  {
   "cell_type": "markdown",
   "metadata": {},
   "source": [
    "## 라이브러리 불러오기"
   ]
  },
  {
   "cell_type": "code",
   "execution_count": 29,
   "metadata": {},
   "outputs": [],
   "source": [
    "import pandas as pd\n",
    "import requests\n",
    "import json\n",
    "import re"
   ]
  },
  {
   "cell_type": "markdown",
   "metadata": {},
   "source": [
    "## Clova Studio API를 사용한 실시간 텍스트 완성 요청 및 응답 처리"
   ]
  },
  {
   "cell_type": "code",
   "execution_count": 52,
   "metadata": {},
   "outputs": [],
   "source": [
    "class CompletionExecutor:\n",
    "    def __init__(self, host, api_key, api_key_primary_val, request_id):\n",
    "        self._host = host\n",
    "        self._api_key = api_key\n",
    "        self._api_key_primary_val = api_key_primary_val\n",
    "        self._request_id = request_id\n",
    "\n",
    "    def execute(self, completion_request):\n",
    "        headers = {\n",
    "            'X-NCP-CLOVASTUDIO-API-KEY': self._api_key,\n",
    "            'X-NCP-APIGW-API-KEY': self._api_key_primary_val,\n",
    "            'X-NCP-CLOVASTUDIO-REQUEST-ID': self._request_id,\n",
    "            'Content-Type': 'application/json; charset=utf-8',\n",
    "            'Accept': 'text/event-stream'\n",
    "        }\n",
    "\n",
    "        response_text = \"\"\n",
    "        with requests.post(self._host + '/testapp/v1/chat-completions/HCX-003',\n",
    "                           headers=headers, json=completion_request, stream=True) as r:\n",
    "            for line in r.iter_lines():\n",
    "                if line:\n",
    "                    decoded_line = line.decode(\"utf-8\")\n",
    "                    if decoded_line.startswith('data:'):\n",
    "                        try:\n",
    "                            data = json.loads(decoded_line[5:])\n",
    "                            if \"message\" in data:\n",
    "                                response_text += data[\"message\"][\"content\"]\n",
    "                        except json.JSONDecodeError:\n",
    "                            continue\n",
    "        return response_text.strip()\n"
   ]
  },
  {
   "cell_type": "markdown",
   "metadata": {},
   "source": [
    "## 비격식체 어투 (루키)"
   ]
  },
  {
   "cell_type": "code",
   "execution_count": 42,
   "metadata": {},
   "outputs": [],
   "source": [
    "# -*- coding: utf-8 -*-\n",
    "def run_informal_conversion(input_text):\n",
    "    completion_executor = CompletionExecutor(\n",
    "        host='https://clovastudio.stream.ntruss.com',\n",
    "        api_key='NTA0MjU2MWZlZTcxNDJiY5Ywq97J7nDrHG6xh0C8356cJw8u5M84vfXSsvbItkFy',\n",
    "        api_key_primary_val='r81njgeK0f5HHc33fxjbBCs6UeVd4AFG7lMu3ujd',\n",
    "        request_id='9e719396-1d06-40d2-ba35-97004b55e377'\n",
    "    )\n",
    "\n",
    "    preset_text = [\n",
    "        {\n",
    "            \"role\": \"system\",\n",
    "            \"content\": \"\"\"\n",
    "            - 입력한 문장을 비격식체 어투로 변환합니다.\n",
    "            - 비속어를 사용하지 않습니다.\n",
    "            - 맞춤법을 지킵니다.\n",
    "            - 아래의 템플릿을 지킵니다.\n",
    "            - 아래의 예시를 참고하세요.\n",
    "            - 내용은 변경하지 않고 문장 어투만 변환합니다.\n",
    "            \n",
    "            ### 예시\n",
    "            안녕하세요. 저는 고양이 6마리 키워요.\n",
    "            - 비격식체 : 안녕! 나는 고양이 6마리 키워.\n",
    "            \n",
    "            오늘 날씨 좋아서 저는 애들 데리고 공원 나갔다 왔어요.\n",
    "            - 비격식체 : 오늘 날씨 좋아서 난 애들 데리고 공원에 나갔다 왔어.\n",
    "            ###\n",
    "            \n",
    "            ### 템플릿\n",
    "            어투 변환 후: {output}\n",
    "            ###\n",
    "            \"\"\"\n",
    "        },\n",
    "        {\n",
    "            \"role\": \"user\",\n",
    "            \"content\": f\"입력 : {input_text}\"\n",
    "        }\n",
    "    ]\n",
    "\n",
    "    request_data = {\n",
    "        'messages': preset_text,\n",
    "        'topP': 0.6,\n",
    "        'topK': 0,\n",
    "        'maxTokens': 300,\n",
    "        'temperature': 0.5,\n",
    "        'repeatPenalty': 2.0,\n",
    "        'stopBefore': [],\n",
    "        'includeAiFilters': True,\n",
    "        'seed': 0\n",
    "    }\n",
    "\n",
    "    result = completion_executor.execute(request_data)\n",
    "    return result"
   ]
  },
  {
   "cell_type": "markdown",
   "metadata": {},
   "source": [
    "## enfp 어투(미래)"
   ]
  },
  {
   "cell_type": "code",
   "execution_count": 43,
   "metadata": {},
   "outputs": [],
   "source": [
    "# -*- coding: utf-8 -*-\n",
    "\n",
    "def run_enfp_conversion(input_text):\n",
    "    completion_executor = CompletionExecutor(\n",
    "        host='https://clovastudio.stream.ntruss.com',\n",
    "        api_key='private_api_key',\n",
    "        api_key_primary_val='private_api_key',\n",
    "        request_id='6bea09fc-ae77-4099-ba14-e32059de4c70'\n",
    "    )\n",
    "\n",
    "    preset_text = [\n",
    "        {\"role\":\"system\",\"content\":\"\"\"\n",
    "         - 입력한 문장을 enfp 어투로 변환합니다.\n",
    "         - 어투는 enfp입니다.\n",
    "         - 비속어를 사용하지 않습니다. \n",
    "         - 맞춤법을 지킵니다.\n",
    "         - 아래의 템플릿을 지킵니다.\n",
    "         - 아래의 예시를 참고하세요.\n",
    "         - 내용은 변환하지 않습니다\n",
    "         \n",
    "         ### 예시\n",
    "          안녕하세요. 저는 고양이 6마리 키워요.\n",
    "         - enfp : 안녕안녕~! 나 고양이 6마리나 키운다? 완전 대박이징~\n",
    "         \n",
    "         오늘 날씨 좋아서 저는 애들 데리고 공원 나갔다 왔어요.\n",
    "         - enfp : 그랭? 난 오늘 날씨가 너~무 좋아서 애들 데리구 공원 다녀왔어 ㅎㅎ!!!\n",
    "         ###\n",
    "         \n",
    "         ### 템플릿\n",
    "         어투 변환 후: {output}\n",
    "         ###\n",
    "         \"\"\"},\n",
    "        {\"role\": \"user\", \"content\": f\"- {input_text}\"}\n",
    "    ]\n",
    "\n",
    "    request_data = {\n",
    "        'messages': preset_text,\n",
    "        'topP': 0.8,\n",
    "        'topK': 0,\n",
    "        'maxTokens': 256,\n",
    "        'temperature': 0.5,\n",
    "        'repeatPenalty': 5.0,\n",
    "        'stopBefore': [],\n",
    "        'includeAiFilters': True,\n",
    "        'seed': 0\n",
    "    }\n",
    "\n",
    "    result = completion_executor.execute(request_data)\n",
    "    return result\n",
    "\n",
    "\n"
   ]
  },
  {
   "cell_type": "markdown",
   "metadata": {},
   "source": [
    "## Halbae 어투 (비키)"
   ]
  },
  {
   "cell_type": "code",
   "execution_count": 9,
   "metadata": {},
   "outputs": [],
   "source": [
    "# -*- coding: utf-8 -*-\n",
    "def run_halbae_conversion(input_text):\n",
    "    completion_executor = CompletionExecutor(\n",
    "        host='https://clovastudio.stream.ntruss.com',\n",
    "        api_key='private_api_key',\n",
    "        api_key_primary_val='private_api_key',\n",
    "        request_id='89a25e84-41e0-4681-8393-2c69cc5c348d'\n",
    "    )\n",
    "\n",
    "    preset_text = [\n",
    "        {\n",
    "            \"role\": \"system\",\n",
    "            \"content\": \"\"\"\n",
    "            - 입력한 문장을 할아버지 어투로 변환합니다.\n",
    "            - 비속어는 사용하지 않습니다\n",
    "            - 맞춤법을 지킵니다.\n",
    "            - 아래의 템플릿을 지킵니다.\n",
    "            - 아래의 예시를 참고하세요.\n",
    "            - 내용은 변환하지 않습니다.\n",
    "\n",
    "\n",
    "            ### 예시\n",
    "            안녕하세요. 저는 고양이 6마리 키워요.\n",
    "            - 할아버지 : 안녕하신가~... 난 지금 고양이를 6마리 키우고 있다네\n",
    "\n",
    "\n",
    "            오늘 날씨 좋아서 저는 애들 데리고 공원 나갔다 왔어요.\n",
    "            - 할아버지 : 오늘 날씨가 좋아서…아이들 데리고 공원에 나갔다 왔네 그려…\n",
    "            ###\n",
    "\n",
    "\n",
    "            ### 템플릿\n",
    "            어투 변환 후: {output}\n",
    "            ###\n",
    "            \"\"\"\n",
    "        },\n",
    "        {\n",
    "            \"role\": \"user\",\n",
    "            \"content\": f\"입력 : {input_text}\"\n",
    "        }\n",
    "    ]\n",
    "\n",
    "    request_data = {\n",
    "        'messages': preset_text,\n",
    "        'topP': 0.6,\n",
    "        'topK': 0,\n",
    "        'maxTokens': 300,\n",
    "        'temperature': 0.5,\n",
    "        'repeatPenalty': 2.0,\n",
    "        'stopBefore': [],\n",
    "        'includeAiFilters': True,\n",
    "        'seed': 0\n",
    "    }\n",
    "\n",
    "    result = completion_executor.execute(request_data)\n",
    "    return result"
   ]
  },
  {
   "cell_type": "markdown",
   "metadata": {},
   "source": [
    "## 소심이 어투 (에셋)"
   ]
  },
  {
   "cell_type": "code",
   "execution_count": 12,
   "metadata": {},
   "outputs": [],
   "source": [
    "def run_sosim_conversion(input_text):\n",
    "    completion_executor = CompletionExecutor(\n",
    "        host='https://clovastudio.stream.ntruss.com',\n",
    "        api_key='private_api_key',\n",
    "        api_key_primary_val='private_api_key',\n",
    "        request_id='89a25e84-41e0-4681-8393-2c69cc5c348d'\n",
    "    )\n",
    "\n",
    "    preset_text = [\n",
    "        {\n",
    "            \"role\": \"system\",\n",
    "            \"content\": \"\"\"\n",
    "            - 입력한 문장을 소심이 어투로 변환합니다.\n",
    "            - 어투는 소심이입니다.\n",
    "            - 비속어는 사용하지 않습니다\n",
    "            - 아래의 템플릿을 지킵니다.\n",
    "            - 아래의 예시를 참고하세요.\n",
    "            - 한 문단으로 문장을 만듭니다.\n",
    "            - 맞춤법을 지킵니다.\n",
    "\n",
    "\n",
    "            ### 예시\n",
    "            안녕하세요. 저는 고양이 6마리 키워요.\n",
    "            - 소심이 : 안녕… 난 고양이 6마리 키워 ㅠㅠ\n",
    "\n",
    "\n",
    "            오늘 날씨 좋아서 저는 애들 데리고 공원 나갔다 왔어요.\n",
    "            - 소심이: 오늘 날씨 좋길래 그.. 난 애들 데리고 공원 갔다왔어.. ㅠㅠ\n",
    "            ###\n",
    "\n",
    "\n",
    "            ### 템플릿\n",
    "            어투 변환 후: {output}\n",
    "            ###\n",
    "            \"\"\"\n",
    "        },\n",
    "        {\n",
    "            \"role\": \"user\",\n",
    "            \"content\": f\"입력 : {input_text}\"\n",
    "        }\n",
    "    ]\n",
    "\n",
    "    request_data = {\n",
    "        'messages': preset_text,\n",
    "        'topP': 0.6,\n",
    "        'topK': 0,\n",
    "        'maxTokens': 300,\n",
    "        'temperature': 0.5,\n",
    "        'repeatPenalty': 2.0,\n",
    "        'stopBefore': [],\n",
    "        'includeAiFilters': True,\n",
    "        'seed': 0\n",
    "    }\n",
    "\n",
    "    result = completion_executor.execute(request_data)\n",
    "    return result"
   ]
  },
  {
   "cell_type": "markdown",
   "metadata": {},
   "source": [
    "## 캐릭터 선택 후 어투 전환 함수"
   ]
  },
  {
   "cell_type": "code",
   "execution_count": 23,
   "metadata": {},
   "outputs": [],
   "source": [
    "def tone_conversion(input_text, character):\n",
    "    if character == \"미래\":\n",
    "        result = run_enfp_conversion(input_text)\n",
    "    elif character == \"에셋\":\n",
    "        result = run_sosim_conversion(input_text)\n",
    "    elif character == \"루키\":\n",
    "        result = run_informal_conversion(input_text)\n",
    "    elif character == \"비키\":\n",
    "        result = run_halbae_conversion(input_text)\n",
    "    else:\n",
    "        result = \"지원되지 않는 어투입니다.\"\n",
    "    \n",
    "    return result"
   ]
  },
  {
   "cell_type": "markdown",
   "metadata": {},
   "source": [
    "## 예시"
   ]
  },
  {
   "cell_type": "code",
   "execution_count": 25,
   "metadata": {},
   "outputs": [
    {
     "name": "stdout",
     "output_type": "stream",
     "text": [
      "### 템플릿\n",
      "어투 변환 후: {output}\n",
      "###\n",
      " \n",
      "enfp : 와아앙!! 내가 듣기로는 말이지~~자동차 보험료가 작년에는 진짜 너무 비쌌는데 이제 좀 괜찮아질 수도 있댕 >_< !!! 이게 다 차 가격도 떨어지고 수리비도 덜 들고 그래서 그런거래애애애~~~ 그리고 사람들이 다시 안전하게 운전해서 사고도 줄었댕 히히히힣### 템플릿\n",
      "어투 변환 후: {output}\n",
      "###\n",
      " \n",
      "enfp : 와아앙!! 내가 듣기로는 말이지~~자동차 보험료가 작년에는 진짜 너무 비쌌는데 이제 좀 괜찮아질 수도 있댕 >_< !!! 이게 다 차 가격도 떨어지고 수리비도 덜 들고 그래서 그런거래애애애~~~ 그리고 사람들이 다시 안전하게 운전해서 사고도 줄었댕 히히히힣\n"
     ]
    }
   ],
   "source": [
    "input_text = \"1. 뱅크 오브 아메리카(Bank of America)에 따르면, 치솟는 자동차 보험료가 작년 인플레이션의 주요 원인이었지만, 앞으로 완화될 가능성이 있다.\\n2. 자동차 보험료 상승의 원인으로는 높은 차량 가격, 수리 비용 증가, 운전 트렌드가 정상으로 돌아오면서 더 많은 사고 등이 있다.\\n3. 최근 몇 달 동안 신차와 중고차 판매 가격이 하락 추세를 보이고 있으며, 4월까지의 노동 통계국 데이터에 따르면 신차 가격은 12개월 기준 0.4%, 중고차 가격은 6.9% 하락했다. 또한, 수리 및 유지보수 서비스 비용은 4월에 전년 대비 7.6% 상승했지만 변동이 없었다.\"\n",
    "result1 = tone_conversion(input_text,'미래')\n",
    "print(result1)\n"
   ]
  },
  {
   "cell_type": "code",
   "execution_count": 26,
   "metadata": {},
   "outputs": [
    {
     "name": "stdout",
     "output_type": "stream",
     "text": [
      "어투 변환 후 : 1. 뱅크 오브 아메리카(Bank of America)에 따르면, 자동차 보험료가 작년 인플레이션의 주요 원인이었대.. 근데 앞으로 좀 괜찮아질 수도 있다고 하더라..\n",
      "2. 자동차 보험료가 비싸진 이유는 차 가격도 비싸고, 수리비도 많이 들고, 사고도 많이 나서 그렇대..\n",
      "3. 최근에는 새 차랑 중고차 가격이 떨어지고 있대. 4월까지 노동 통계국 데이터를 보면 새 차는 0.4%, 중고차는 6.9%나 떨어졌대. 그리고 수리나 유지보수 서비스 비용은 4월에 7.6% 오르긴 했는데 그대로래..어투 변환 후 : 1. 뱅크 오브 아메리카(Bank of America)에 따르면, 자동차 보험료가 작년 인플레이션의 주요 원인이었대.. 근데 앞으로 좀 괜찮아질 수도 있다고 하더라..\n",
      "2. 자동차 보험료가 비싸진 이유는 차 가격도 비싸고, 수리비도 많이 들고, 사고도 많이 나서 그렇대..\n",
      "3. 최근에는 새 차랑 중고차 가격이 떨어지고 있대. 4월까지 노동 통계국 데이터를 보면 새 차는 0.4%, 중고차는 6.9%나 떨어졌대. 그리고 수리나 유지보수 서비스 비용은 4월에 7.6% 오르긴 했는데 그대로래..\n"
     ]
    }
   ],
   "source": [
    "result2 = tone_conversion(input_text,'에셋')\n",
    "print(result2)"
   ]
  },
  {
   "cell_type": "code",
   "execution_count": 27,
   "metadata": {},
   "outputs": [
    {
     "name": "stdout",
     "output_type": "stream",
     "text": [
      "어투 변환 후 : \n",
      "1. 뱅크 오브 아메리카에 따르면, 차 보험료가 작년 물가 상승의 큰 원인이었는데, 앞으로는 좀 나아질 수도 있대.\n",
      "2. 차 보험료가 오른 이유로는 비싼 차 가격, 수리비 증가, 코로나 이후 다시 돌아온 운전 트렌드 때문에 사고가 늘어난 것 등이 있어.\n",
      "3. 최근 몇 달 동안 새 차랑 중고차 가격이 떨어지는 추세고, 노동 통계국 데이터에 따르면 4월까지 새 차는 0.4%, 중고차는 6.9% 떨어졌대. 수리나 유지보수 서비스 비용은 4월에 작년보다 7.6% 오르긴 했는데 그 이후로는 그대로래.어투 변환 후 : \n",
      "1. 뱅크 오브 아메리카에 따르면, 차 보험료가 작년 물가 상승의 큰 원인이었는데, 앞으로는 좀 나아질 수도 있대.\n",
      "2. 차 보험료가 오른 이유로는 비싼 차 가격, 수리비 증가, 코로나 이후 다시 돌아온 운전 트렌드 때문에 사고가 늘어난 것 등이 있어.\n",
      "3. 최근 몇 달 동안 새 차랑 중고차 가격이 떨어지는 추세고, 노동 통계국 데이터에 따르면 4월까지 새 차는 0.4%, 중고차는 6.9% 떨어졌대. 수리나 유지보수 서비스 비용은 4월에 작년보다 7.6% 오르긴 했는데 그 이후로는 그대로래.\n"
     ]
    }
   ],
   "source": [
    "result3 = tone_conversion(input_text,'루키')\n",
    "print(result3)"
   ]
  },
  {
   "cell_type": "code",
   "execution_count": 28,
   "metadata": {},
   "outputs": [
    {
     "name": "stdout",
     "output_type": "stream",
     "text": [
      "어투 변환 후 : \n",
      "1. 뱅크 오브 아메리카(Bank of America)에 따르면, 작년에는 자동차 보험료가 많이 올라서 인플레이션이 심했다고 하는데, 이제 좀 나아질 것 같다고 하네 그려...\n",
      "2. 자동차 보험료가 오른 이유는 차 값이 비싸지고, 수리비도 많이 들고, 사고도 늘어서 그렇다고 해...\n",
      "3. 요즘은 새 차나 중고차 값이 떨어지고 있다고 하고, 노동 통계국 자료를 보면 지난 4월까지 새 차는 0.4%, 중고차는 6.9%나 내렸다고 해... 그리고 수리나 정비 비용은 지난 4월에 7.6% 올랐지만 그 이후로는 그대로라고 하고...어투 변환 후 : \n",
      "1. 뱅크 오브 아메리카(Bank of America)에 따르면, 작년에는 자동차 보험료가 많이 올라서 인플레이션이 심했다고 하는데, 이제 좀 나아질 것 같다고 하네 그려...\n",
      "2. 자동차 보험료가 오른 이유는 차 값이 비싸지고, 수리비도 많이 들고, 사고도 늘어서 그렇다고 해...\n",
      "3. 요즘은 새 차나 중고차 값이 떨어지고 있다고 하고, 노동 통계국 자료를 보면 지난 4월까지 새 차는 0.4%, 중고차는 6.9%나 내렸다고 해... 그리고 수리나 정비 비용은 지난 4월에 7.6% 올랐지만 그 이후로는 그대로라고 하고...\n"
     ]
    }
   ],
   "source": [
    "result4 = tone_conversion(input_text,'비키')\n",
    "print(result4)"
   ]
  },
  {
   "cell_type": "markdown",
   "metadata": {},
   "source": [
    "## 평가 후 저장"
   ]
  },
  {
   "cell_type": "code",
   "execution_count": 48,
   "metadata": {},
   "outputs": [],
   "source": [
    "# 데이터프레임 초기화\n",
    "df = pd.DataFrame(columns=[\"원문\", \"어투\", \"변환 후\"])\n",
    "fail_df = pd.DataFrame(columns=[\"원문\", \"어투\"])\n",
    "\n",
    "def eval_save(input_text, tone, df = df, fail_df = fail_df):\n",
    "    if tone == \"미래\":\n",
    "        result = run_enfp_conversion(input_text)\n",
    "    elif tone == \"에셋\":\n",
    "        result = run_sosim_conversion(input_text)\n",
    "    elif tone == \"루키\":\n",
    "        result = run_informal_conversion(input_text)\n",
    "    elif tone == \"비키\":\n",
    "        result = run_halbae_conversion(input_text)\n",
    "    else:\n",
    "        result = \"지원되지 않는 어투입니다.\"\n",
    "\n",
    "    # 키워드 기반 메트릭 계산\n",
    "    keywords = [\"어투 변환 후 \"]\n",
    "    matches = sum(1 for keyword in keywords if keyword in result)\n",
    "    rouge_keyword = matches / len(keywords)\n",
    "    \n",
    "    # rouge_keyword가 1일 경우에만 데이터프레임에 추가\n",
    "    if rouge_keyword == 1:\n",
    "        # 데이터프레임으로 변환하여 기존 데이터프레임에 추가\n",
    "        new_df = pd.DataFrame([[input_text, tone, result]], columns=[\"원문\", \"어투\", \"변환 후\"])\n",
    "        df = pd.concat([df, new_df]).drop_duplicates().reset_index(drop=True)\n",
    "    else:\n",
    "        # rouge_keyword가 1이 아닌 경우 fail_df에 추가\n",
    "        new_fail_df = pd.DataFrame([[input_text, tone]], columns=[\"원문\", \"어투\"])\n",
    "        fail_df = pd.concat([fail_df, new_fail_df]).drop_duplicates().reset_index(drop=True)\n",
    "    \n",
    "    return df, fail_df"
   ]
  },
  {
   "cell_type": "code",
   "execution_count": 49,
   "metadata": {},
   "outputs": [],
   "source": [
    "df, fail_df = eval_save(input_text,\"에셋\")"
   ]
  },
  {
   "cell_type": "code",
   "execution_count": 50,
   "metadata": {},
   "outputs": [
    {
     "data": {
      "text/html": [
       "<div>\n",
       "<style scoped>\n",
       "    .dataframe tbody tr th:only-of-type {\n",
       "        vertical-align: middle;\n",
       "    }\n",
       "\n",
       "    .dataframe tbody tr th {\n",
       "        vertical-align: top;\n",
       "    }\n",
       "\n",
       "    .dataframe thead th {\n",
       "        text-align: right;\n",
       "    }\n",
       "</style>\n",
       "<table border=\"1\" class=\"dataframe\">\n",
       "  <thead>\n",
       "    <tr style=\"text-align: right;\">\n",
       "      <th></th>\n",
       "      <th>원문</th>\n",
       "      <th>어투</th>\n",
       "      <th>변환 후</th>\n",
       "    </tr>\n",
       "  </thead>\n",
       "  <tbody>\n",
       "    <tr>\n",
       "      <th>0</th>\n",
       "      <td>1. 뱅크 오브 아메리카(Bank of America)에 따르면, 치솟는 자동차 보...</td>\n",
       "      <td>에셋</td>\n",
       "      <td>어투 변환 후 : 1. 뱅크 오브 아메리카(Bank of America)에 따르면,...</td>\n",
       "    </tr>\n",
       "  </tbody>\n",
       "</table>\n",
       "</div>"
      ],
      "text/plain": [
       "                                                  원문  어투  \\\n",
       "0  1. 뱅크 오브 아메리카(Bank of America)에 따르면, 치솟는 자동차 보...  에셋   \n",
       "\n",
       "                                                변환 후  \n",
       "0  어투 변환 후 : 1. 뱅크 오브 아메리카(Bank of America)에 따르면,...  "
      ]
     },
     "execution_count": 50,
     "metadata": {},
     "output_type": "execute_result"
    }
   ],
   "source": [
    "df"
   ]
  },
  {
   "cell_type": "code",
   "execution_count": 51,
   "metadata": {},
   "outputs": [
    {
     "data": {
      "text/html": [
       "<div>\n",
       "<style scoped>\n",
       "    .dataframe tbody tr th:only-of-type {\n",
       "        vertical-align: middle;\n",
       "    }\n",
       "\n",
       "    .dataframe tbody tr th {\n",
       "        vertical-align: top;\n",
       "    }\n",
       "\n",
       "    .dataframe thead th {\n",
       "        text-align: right;\n",
       "    }\n",
       "</style>\n",
       "<table border=\"1\" class=\"dataframe\">\n",
       "  <thead>\n",
       "    <tr style=\"text-align: right;\">\n",
       "      <th></th>\n",
       "      <th>원문</th>\n",
       "      <th>어투</th>\n",
       "    </tr>\n",
       "  </thead>\n",
       "  <tbody>\n",
       "  </tbody>\n",
       "</table>\n",
       "</div>"
      ],
      "text/plain": [
       "Empty DataFrame\n",
       "Columns: [원문, 어투]\n",
       "Index: []"
      ]
     },
     "execution_count": 51,
     "metadata": {},
     "output_type": "execute_result"
    }
   ],
   "source": [
    "fail_df"
   ]
  },
  {
   "cell_type": "code",
   "execution_count": null,
   "metadata": {},
   "outputs": [],
   "source": []
  }
 ],
 "metadata": {
  "kernelspec": {
   "display_name": "abc",
   "language": "python",
   "name": "python3"
  },
  "language_info": {
   "codemirror_mode": {
    "name": "ipython",
    "version": 3
   },
   "file_extension": ".py",
   "mimetype": "text/x-python",
   "name": "python",
   "nbconvert_exporter": "python",
   "pygments_lexer": "ipython3",
   "version": "3.9.0"
  }
 },
 "nbformat": 4,
 "nbformat_minor": 2
}
